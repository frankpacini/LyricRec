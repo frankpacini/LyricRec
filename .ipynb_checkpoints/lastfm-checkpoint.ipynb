{
 "cells": [
  {
   "cell_type": "code",
   "execution_count": null,
   "id": "f3a3b985",
   "metadata": {},
   "outputs": [],
   "source": [
    "import requests as r\n",
    "with open(\"lastfm.txt\", 'r') as f:\n",
    "    api_key = f.read()\n",
    "url = \n",
    "print(\"http://ws.audioscrobbler.com/2.0/?method=track.getsimilar&artist={}&track={}&api_key={}&format=json\".format(\"Radiohead\", \"Creep\", api_key))\n"
   ]
  }
 ],
 "metadata": {
  "kernelspec": {
   "display_name": "Python 3",
   "language": "python",
   "name": "python3"
  },
  "language_info": {
   "codemirror_mode": {
    "name": "ipython",
    "version": 3
   },
   "file_extension": ".py",
   "mimetype": "text/x-python",
   "name": "python",
   "nbconvert_exporter": "python",
   "pygments_lexer": "ipython3",
   "version": "3.8.8"
  }
 },
 "nbformat": 4,
 "nbformat_minor": 5
}
