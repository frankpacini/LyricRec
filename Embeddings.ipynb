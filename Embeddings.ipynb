{
 "cells": [
  {
   "cell_type": "code",
   "execution_count": 1,
   "id": "c6d11518",
   "metadata": {},
   "outputs": [],
   "source": [
    "from tswift import Artist, Song, TswiftError\n",
    "import random\n",
    "\n",
    "import numpy as np\n",
    "import torch\n",
    "from sklearn.mixture import GaussianMixture\n",
    "\n",
    "import codecs\n",
    "import pickle\n",
    "import logging\n",
    "import nltk\n",
    "stopwords = nltk.corpus.stopwords\n",
    "remove_these = set(stopwords.words('english'))\n",
    "\n",
    "def load_external_embeddings(params, emb_path):\n",
    "    \"\"\"\n",
    "    Reload pretrained embeddings from a text file.\n",
    "    \"\"\"\n",
    "    \n",
    "    word2id = {}\n",
    "    vectors = []\n",
    "\n",
    "    # load pretrained embeddings\n",
    "    _emb_dim_file = params.emb_dim\n",
    "    with codecs.open(emb_path) as f:\n",
    "        for i, line in enumerate(f):\n",
    "            if len(line.split()) == 2:\n",
    "                i -= 1\n",
    "                continue\n",
    "            word, vect = line.rstrip().split(' ', 1)\n",
    "            vect = np.fromstring(vect, sep=' ')\n",
    "            if np.linalg.norm(vect) == 0:  # avoid to have null embeddings\n",
    "                vect[0] = 0.01\n",
    "            assert word not in word2id\n",
    "            assert vect.shape == (_emb_dim_file,), i\n",
    "            word2id[word] = len(word2id)\n",
    "            vectors.append(vect[None])\n",
    "\n",
    "    logging.info(\"Loaded %i pre-trained word embeddings\" % len(vectors))\n",
    "    \n",
    "    dico = word2id\n",
    "    \n",
    "    embeddings = np.concatenate(vectors, 0)\n",
    "    embeddings = torch.from_numpy(embeddings).float()\n",
    "    embeddings = embeddings.cuda() if params.cuda and torch.cuda.is_available() else embeddings\n",
    "    assert embeddings.size() == (len(word2id), params.emb_dim), ((len(word2id), params.emb_dim, embeddings.size()))\n",
    "\n",
    "    return dico, embeddings\n",
    "\n",
    "pkl_file = open(\"model/ft_params.pkl\", 'rb')\n",
    "params = pickle.load(pkl_file)\n",
    "out_dico, out_emb = load_external_embeddings(params, \"data/ft_postspec.txt\")"
   ]
  },
  {
   "cell_type": "code",
   "execution_count": 2,
   "id": "5c235ba8",
   "metadata": {},
   "outputs": [
    {
     "name": "stdout",
     "output_type": "stream",
     "text": [
      "4102\n",
      "['love', 'know', 'like', 'time', 'come', 'go', 'oh', 'one', 'get', 'see', 'got', 'never', 'feel', 'want', 'let', 'make', 'way', 'say', 'take', 'would', 'ca', 'day', 'baby', 'away', 'life', 'yeah', 'back', 'heart', 'could', 'night', 'need', 'look', 'eyes', 'things', 'world', 'die', 'right', 'tell', 'think', 'man', 'live', 'give', 'try', 'keep', 'dream', 'well', 'mind', 'still', 'us', 'long', 'girl', 'find', 'fall', 'around', 'good', 'little', 'turn', 'hand', 'nothing', 'light', 'said', 'call', 'every', 'always', 'waiting', 'leave', 'home', 'hold', 'run', 'walk', 'ever', 'lies', 'face', 'end', 'hear', 'gone', 'head', 'believe', 'everything', 'cry', 'alone', 'hey', 'something', 'si', 'inside', 'du', 'words', 'stay', 'place', 'much', 'change', 'ich', 'god', 'stand', 'better', 'last', 'friend', 'soul', 'another', 'je', 'left', 'new', 'stop', 'tonight', 'burn', 'sun', 'play', 'thought', 'sing', 'show', 'lost', 'people', 'made', 'break', 'und', 'start', 'really', 'chorus', 'hard', 'sky', 'old', 'da', 'even', 'boy', 'please', 'song', 'care', 'without', 'hope', 'watch', 'pain', 'amor', 'move', 'wrong', 'put', 'free', 'name', 'et', 'blue', 'dance', 'talk', 'seems', 'mine', 'dark', 'na', 'far', 'tears', 'true', 'fire', 'used', 'dead', 'bring', 'fuck', 'someone', 'forever', 'close', 'sleep', 'rain', 'must', 'sweet', 'mean', 'fight', 'remember', 'stars', 'kiss', 'kill', 'high', 'breath', 'yes', 'wish', 'che', 'real', 'smile', 'two', 'cold', 'lord', 'years', 'open', 'il', 'fear', 'di', 'done', 'side', 'fly', 'black', 'line', 'rock', 'blood', 'lose', 'found', 'non', 'door', 'bad', 'ooh', 'wonder', 'enough', 'sound', 'together', 'maybe', 'help', 'shine', 'many', 'heaven', 'work', 'touch', 'behind', 'today', 'big', 'might', 'death', 'hate', 'miss', 'ride', 'street', 'came', 'ask', 'hide', 'everybody', 'save', 'till', 'may', 'beautiful', 'roll', 'sure', 'deep', 'arms', 'wind', 'body', 'forget', 'happy', 'understand', 'ai', 'best', 'town', 'war', 'ah', 'listen', 'seen', 'der', 'sometimes', 'lonely', 'hell', 'morning', 'set', 'hurt', 'told', 'first', 'knew', 'goes', 'round', 'alright', 'music', 'truth', 'qui', 'beat', 'nicht', 'eu', 'pass', 'late', 'ground', 'fool', 'pas', 'broken', 'goodbye', 'das', 'des', 'kind', 'wall', 'angel', 'est', 'road', 'reason', 'dans', 'money', 'chance', 'quiero', 'mais', 'part', 'matter', 'learn', 'else', 'rise', 'pour', 'saw', 'grow', 'sit', 'land', 'fade', 'air', 'took', 'nobody', 'ne', 'fill', 'easy', 'game', 'follow', 'wake', 'anything', 'alive', 'solo', 'water', 'heard', 'though', 'white', 'vida', 'ist', 'voice', 'woman', 'blind', 'city', 'young', 'lay', 'moon', 'reach', 'ready', 'fine', 'soon', 'shit', 'along', 'crazy', 'past', 'red', 'room', 'ein', 'step', 'scream', 'tomorrow', 'control', 'memories', 'strong', 'hit', 'everyone', 'waste', 'men', 'earth', 'upon', 'finally', 'shake', 'im', 'ja', 'moment', 'rest', 'guess', 'house', 'born', 'somebody', 'feet', 'mas', 'sad', 'laugh', 'happen', 'went', 'blow', 'noch', 'meet', 'whole', 'lover', 'drive', 'car', 'lead', 'promise', 'bed', 'apart', 'um', 'empty', 'shadows', 'full', 'begin', 'pull', 'child', 'pretty', 'drink', 'pray', 'king', 'cut', 'power', 'gave', 'peace', 'hang', 'next', 'ser', 'mother', 'pay', 'carry', 'tired', 'speak', 'lot', 'tree', 'den', 'skin', 'tout', 'slow', 'since', 'anymore', 'kids', 'clear', 'mich', 'jesus', 'different', 'fast', 'become', 'nigga', 'va', 'gun', 'zu', 'river', 'faith', 'floor', 'cross', 'lady', 'near', 'fun', 'ring', 'answer', 'afraid', 'jag', 'repeat', 'great', 'story', 'yet', 'hot', 'wir', 'hour', 'summer', 'stone', 'bleed', 'sign', 'mir', 'lyrics', 'children', 'trust', 'wild', 'felt', 'trouble', 'honey', 'sick', 'perfect', 'human', 'bright', 'bien', 'mama', 'dich', 'party', 'train', 'plan', 'sorry', 'plus', 'hair', 'secret', 'silence', 'taste', 'brother', 'throw', 'within', 'per', 'push', 'somewhere', 'three', 'clouds', 'shall', 'vez', 'low', 'window', 'knees', 'lips', 'future', 'dear', 'searching', 'sie', 'drop', 'det', 'cool', 'flame', 'outside', 'worry', 'met', 'stare', 'sight', 'mon', 'voy', 'across', 'wear', 'wave', 'pick', 'er', 'send', 'siempre', 'wie', 'bones', 'flow', 'piece', 'uh', 'thank', 'straight', 'blame', 'catch', 'au', 'ce', 'tight', 'miles', 'holy', 'darling', 'auf', 'mouth', 'christmas', 'moi', 'mad', 'share', 'caught', 'father', 'read', 'warm', 'wings', 'nunca', 'belong', 'damn', 'eat', 'win', 'sense', 'comme', 'u', 'fell', 'evil', 'dem', 'ho', 'picture', 'second', 'nowhere', 'dog', 'rules', 'une', 'mal', 'mountain', 'joy', 'mit', 'top', 'och', 'tan', 'som', 'bit', 'cover', 'point', 'thousand', 'hoy', 'n', 'gold', 'bells', 'devil', 'bird', 'sur', 'quite', 'brain', 'return', 'build', 'kick', 'rose', 'bitch', 'babe', 'guy', 'whoa', 'shame', 'mein', 'space', 'whisper', 'tiempo', 'write', 'dir', 'count', 'slip', 'ver', 'desire', 'sei', 'nice', 'weak', 'raise', 'ocean', 'number', 'drown', 'spirit', 'scared', 'strange', 'ik', 'half', 'known', 'pretend', 'worth', 'someday', 'act', 'beyond', 'faire', 'million', 'fingers', 'question', 'doubt', 'meant', 'smoke', 'flesh', 'dawn', 'daddy', 'storm', 'hole', 'color', 'jump', 'remain', 'mundo', 'eternal', 'buy', 'nur', 'anyone', 'dress', 'minute', 'dont', 'pra', 'snow', 'dig', 'force', 'spend', 'shot', 'everyday', 'puedo', 'chain', 'dry', 'grace', 'green', 'glory', 'doch', 'everywhere', 'freedom', 'realize', 'locked', 'pride', 'whatever', 'feed', 'mistake', 'verse', 'fate', 'meu', 'escape', 'wash', 'mess', 'sand', 'front', 'forgive', 'vi', 'winter', 'magic', 'flowers', 'pa', 'closer', 'safe', 'wenn', 'sol', 'blessed', 'suffer', 'longer', 'dein', 'hello', 'sans', 'grave', 'already', 'yesterday', 'wide', 'radio', 'sorrow', 'ten', 'phone', 'crawl', 'survive', 'ay', 'tied', 'exist', 'anyway', 'io', 'spinning', 'insane', 'nous', 'slowly', 'ears', 'crowd', 'clean', 'nature', 'knock', 'four', 'poor', 'loud', 'shoes', 'bar', 'ass', 'higher', 'race', 'silent', 'lift', 'destroy', 'cuz', 'soft', 'paint', 'mar', 'dirty', 'check', 'ta', 'held', 'vie', 'shout', 'sail', 'twist', 'guitar', 'simple', 'quand', 'sa', 'ei', 'deny', 'fail', 'van', 'family', 'vision', 'toi', 'track', 'broke', 'dia', 'state', 'welcome', 'ghost', 'almost', 'shut', 'somehow', 'glass', 'yea', 'gente', 'choose', 'bin', 'glad', 'shoot', 'elle', 'small', 'hill', 'wine', 'treat', 'dos', 'stranger', 'regret', 'refrain', 'machine', 'problem', 'sister', 'steal', 'endless', 'vai', 'awake', 'key', 'grand', 'cada', 'age', 'bridge', 'dust', 'wit', 'mercy', 'wheel', 'crack', 'taken', 'praise', 'heal', 'queen', 'mirror', 'von', 'corner', 'ba', 'ago', 'bury', 'book', 'ahora', 'climb', 'quando', 'okay', 'clothes', 'band', 'school', 'stick', 'circle', 'ou', 'tv', 'strength', 'og', 'five', 'country', 'beneath', 'sunshine', 'alma', 'ice', 'bound', 'less', 'sell', 'tongue', 'path', 'cielo', 'travel', 'hat', 'rather', 'heat', 'innocent', 'confused', 'cosa', 'golden', 'ohh', 'mary', 'single', 'ahead', 'bye', 'silver', 'doo', 'mes', 'sais', 'chase', 'puede', 'sein', 'scene', 'smell', 'funny', 'enemy', 'swear', 'ball', 'beg', 'sind', 'prayer', 'wounds', 'ton', 'disappear', 'beside', 'hace', 'toda', 'ignore', 'style', 'ihr', 'brought', 'given', 'quiet', 'rage', 'mano', 'reality', 'sink', 'spread', 'crime', 'vain', 'nadie', 'fallen', 'self', 'decide', 'c', 'imagine', 'hier', 'stuck', 'view', 'vas', 'kept', 'demons', 'suis', 'business', 'ok', 'record', 'law', 'choice', 'har', 'fit', 'remind', 'emotions', 'fields', 'crash', 'supposed', 'sen', 'dentro', 'mehr', 'danger', 'sich', 'letter', 'midnight', 'com', 'kein', 'nation', 'edge', 'surprise', 'rien', 'murder', 'deal', 'complete', 'loose', 'price', 'instrumental', 'luck', 'rip', 'drifting', 'poison', 'battle', 'gimme', 'haunt', 'sex', 'proud', 'heavy', 'guide', 'nie', 'drag', 'middle', 'bare', 'dare', 'bang', 'ojos', 'pure', 'embrace', 'aus', 'suck', 'stupid', 'fake', 'week', 'news', 'tes', 'master', 'floating', 'satisfied', 'sent', 'christ', 'fait', 'scars', 'bear', 'dime', 'quick', 'het', 'poi', 'swing', 'prove', 'figure', 'diamond', 'none', 'instead', 'pleasure', 'curse', 'rich', 'cat', 'spent', 'seek', 'paper', 'mystery', 'passion', 'brand', 'bomb', 'luz', 'bitter', 'tender', 'fact', 'job', 'bet', 'oooh', 'sempre', 'cast', 'sono', 'trip', 'pack', 'explain', 'lucky', 'ci', 'l', 'special', 'mark', 'form', 'shoulder', 'warning', 'create', 'seven', 'ship', 'bist', 'misery', 'sunday', 'six', 'tune', 'wrapped', 'pop', 'surround', 'hero', 'gates', 'comfort', 'rush', 'drugs', 'mejor', 'vivir', 'least', 'short', 'dann', 'cruel', 'par', 'rhyme', 'written', 'swallow', 'wander', 'reflection', 'dice', 'tide', 'join', 'bottle', 'steel', 'paradise', 'mia', 'cant', 'auch', 'wife', 'shore', 'legs', 'draw', 'slave', 'march', 'jour', 'immer', 'swim', 'built', 'tempo', 'women', 'corazon', 'om', 'fix', 'trapped', 'torn', 'veins', 'release', 'horse', 'casa', 'spell', 'glow', 'grab', 'denn', 'drum', 'bite', 'brown', 'sugar', 'forgotten', 'stronger', 'rhythm', 'victim', 'message', 'later', 'person', 'avec', 'huh', 'dat', 'dios', 'uma', 'suddenly', 'stood', 'att', 'hundred', 'kann', 'season', 'surrender', 'bored', 'crush', 'history', 'wont', 'luna', 'verdad', 'weight', 'lust', 'dolor', 'park', 'expect', 'speed', 'shade', 'calm', 'bow', 'bend', 'mig', 'strike', 'thrill', 'animal', 'leben', 'thunder', 'soldier', 'vous', 'hacer', 'west', 'destiny', 'spit', 'ran', 'twice', 'drunk', 'page', 'med', 'desert', 'block', 'tall', 'anywhere', 'distance', 'mio', 'spring', 'gather', 'g', 'temps', 'fois', 'cuerpo', 'dollar', 'echo', 'knife', 'melt', 'mujer', 'anybody', 'aqui', 'grey', 'asleep', 'gentle', 'sem', 'direction', 'load', 'divine', 'early', 'towards', 'kun', 'weather', 'ashes', 'seed', 'highway', 'harder', 'boom', 'attack', 'action', 'thee', 'fin', 'art', 'pie', 'club', 'wird', 'contigo', 'kan', 'rap', 'case', 'hab', 'tous', 'metal', 'underneath', 'breeze', 'teeth', 'respect', 'outta', 'john', 'neck', 'precious', 'nine', 'idea', 'rainbow', 'thy', 'liebe', 'laid', 'offer', 'gut', 'saber', 'een', 'noise', 'begun', 'resist', 'garden', 'sigh', 'bag', 'disguise', 'quem', 'string', 'colour', 'nu', 'ooo', 'gift', 'aint', 'shape', 'york', 'jetzt', 'schon', 'teach', 'test', 'lado', 'arrive', 'amar', 'disease', 'sold', 'clock', 'flash', 'youth', 'box', 'rot', 'lugar', 'mighty', 'certain', 'protect', 'monde', 'ruin', 'romance', 'vamos', 'sweat', 'fantasy', 'viene', 'kinda', 'nacht', 'deserve', 'piel', 'jeg', 'hora', 'universe', 'desperate', 'aching', 'hall', 'anger', 'beast', 'stuff', 'jack', 'table', 'punk', 'movie', 'tudo', 'feliz', 'nightmare', 'doctor', 'freak', 'married', 'crown', 'serve', 'satan', 'hallelujah', 'amigo', 'trace', 'main', 'nem', 'prison', 'moonlight', 'voz', 'thin', 'deeper', 'appear', 'amazing', 'bought', 'weep', 'chi', 'hungry', 'wire', 'pocket', 'jamais', 'note', 'south', 'eh', 'woke', 'momento', 'illusion', 'nails', 'junto', 'paid', 'bis', 'liar', 'bottom', 'plain', 'ill', 'notice', 'melody', 'alla', 'camino', 'destruction', 'daughter', 'ease', 'fat', 'whenever', 'adore', 'church', 'bill', 'cards', 'course', 'naked', 'sacrifice', 'zeit', 'system', 'order', 'stage', 'celebrate', 'hip', 'total', 'welt', 'sera', 'fist', 'dit', 'worse', 'suicide', 'dove', 'bullet', 'senza', 'johnny', 'gain', 'quero', 'grown', 'wherever', 'slide', 'minha', 'fa', 'folks', 'nach', 'hurry', 'lang', 'seu', 'igual', 'vill', 'kingdom', 'trick', 'wrote', 'encore', 'tem', 'choke', 'dame', 'boat', 'tough', 'sang', 'beer', 'erase', 'cup', 'brave', 'reveal', 'distant', 'triste', 'worst', 'wieder', 'grass', 'frozen', 'ahh', 'dass', 'faster', 'tarde', 'sua', 'plane', 'saturday', 'woah', 'taught', 'generation', 'viel', 'store', 'shattered', 'stream', 'wood', 'ganz', 'pressure', 'wa', 'sont', 'charm', 'bloody', 'yellow', 'mo', 'planet', 'joke', 'pound', 'vivo', 'struggle', 'petit', 'dumb', 'suit', 'present', 'revolution', 'dirt', 'hollow', 'vos', 'wicked', 'reign', 'miracle', 'stained', 'shelter', 'lifetime', 'claim', 'accept', 'ven', 'judge', 'av', 'tale', 'enter', 'fault', 'sale', 'mim', 'betrayed', 'hast', 'violence', 'chill', 'lui', 'recuerdo', 'terror', 'settle', 'wet', 'pena', 'foot', 'toujours', 'unknown', 'miedo', 'lonesome', 'nah', 'excuse', 'santa', 'amo', 'fever', 'double', 'dire', 'america', 'var', 'asi', 'hidden', 'b', 'electric', 'mass', 'trop', 'j', 'attention', 'wise', 'volver', 'laughter', 'fame', 'groove', 'mom', 'niet', 'mmm', 'prepared', 'due', 'noi', 'cure', 'began', 'x', 'lesson', 'hook', 'fish', 'east', 'hoes', 'cops', 'sou', 'seat', 'whose', 'forgot', 'bother', 'chest', 'situation', 'candle', 'cash', 'valley', 'united', 'mira', 'aim', 'journey', 'cell', 'ao', 'gray', 'vita', 'everytime', 'tag', 'throat', 'heartache', 'conmigo', 'torture', 'mots', 'cara', 'image', 'min', 'nuit', 'birth', 'woo', 'refuse', 'sword', 'fortune', 'ces', 'older', 'spoken', 'chose', 'motion', 'motherfucker', 'false', 'enjoy', 'oo', 'fort', 'tutto', 'creep', 'trade', 'hoo', 'monkey', 'food', 'worship', 'nel', 'ancient', 'confess', 'coro', 'deja', 'stole', 'forward', 'tua', 'favorite', 'faut', 'toes', 'toy', 'nose', 'favor', 'american', 'class', 'cigarette', 'maria', 'intentions', 'pills', 'poder', 'spill', 'cost', 'shed', 'probably', 'among', 'tanta', 'dar', 'clown', 'consume', 'saint', 'fais', 'connection', 'chaos', 'mix', 'goodnight', 'amour', 'sola', 'numb', 'viento', 'salvation', 'island', 'wipe', 'awaits', 'spot', 'f', 'merry', 'hombre', 'chair', 'press', 'divide', 'bust', 'bem', 'company', 'lick', 'boots', 'loneliness', 'constant', 'dad', 'bei', 'cage', 'flight', 'army', 'mood', 'killer', 'darkest', 'drain', 'underground', 'police', 'querer', 'fresh', 'boogie', 'lean', 'pale', 'vor', 'ad', 'explode', 'sexy', 'rape', 'dick', 'geht', 'recall', 'exactly', 'freeze', 'savior', 'pity', 'separate', 'except', 'candy', 'frame', 'honest', 'religion', 'ses', 'vem', 'yeux', 'hunger', 'station', 'although', 'bus', 'onto', 'pum', 'aux', 'trail', 'mil', 'boca', 'leur', 'spark', 'ga', 'peu', 'decay', 'bass', 'demand', 'command', 'beach', 'destination', 'shy', 'greed', 'lack', 'ela', 'via', 'weg', 'verte', 'whore', 'paso', 'sat', 'palabras', 'monster', 'stumble', 'komm', 'roam', 'threw', 'screen', 'ancora', 'thou', 'harm', 'gli', 'date', 'cheap', 'north', 'awful', 'r', 'roots', 'led', 'rough', 'loco', 'energy', 'mente', 'despair', 'gaze', 'guilty', 'hatred', 'queda', 'joe', 'aside', 'addicted', 'seal', 'super', 'iron', 'wisdom', 'scratch', 'papa', 'smash', 'throne', 'deceive', 'forth', 'coffee', 'ir', 'ves', 'weary', 'position', 'jah', 'ugly', 'shop', 'hood', 'shell', 'horizon', 'w', 'falta', 'became', 'piss', 'blade', 'grew', 'often', 'ye', 'gal', 'victory', 'receive', 'lightning', 'allow', 'hammer', 'telephone', 'cette', 'admit', 'rat', 'nuevo', 'flag', 'truly', 'doom', 'dis', 'loss', 'sacred', 'limit', 'pasa', 'bigger', 'afternoon', 'fed', 'engine', 'veux', 'foolish', 'jeans', 'shock', 'breed', 'greatest', 'mental', 'soledad', 'mismo', 'tal', 'angry', 'ayer', 'finish', 'row', 'vuelve', 'conversation', 'plastic', 'grip', 'creation', 'snake', 'regard', 'tick', 'fan', 'lit', 'holiday', 'inte', 'sue', 'steady', 'tierra', 'coat', 'funky', 'cheat', 'sort', 'drip', 'teu', 'zum', 'abuse', 'possess', 'undone', 'vocal', 'dj', 'hunt', 'months', 'possible', 'design', 'depend', 'sole', 'daylight', 'decision', 'maar', 'sous', 'morir', 'treasure', 'california', 'mare', 'strip', 'hum', 'calor', 'tremble', 'durch', 'invitation', 'rope', 'flood', 'ticket', 'ohne', 'crew', 'spoke', 'sheets', 'fuego', 'cantar', 'wreck', 'cowboy', 'allein', 'needle', 'common', 'lungs', 'monday', 'friday', 'girlfriend', 'piano', 'mission', 'destino', 'rescue', 'lazy', 'couple', 'hi', 'coeur', 'p', 'eight', 'hai', 'andar', 'split', 'mortal', 'guard', 'seul', 'society', 'hotel', 'easily', 'anche', 'fashion', 'heels', 'creature', 'defeat', 'ben', 'excited', 'paris', 'hung', 'ett', 'lake', 'tower', 'dive', 'estrellas', 'silencio', 'curtain', 'gas', 'restless', 'canto', 'onde', 'dum', 'granted', 'unless', 'cheek', 'type', 'crumble', 'hail', 'chosen', 'sunny', 'handle', 'lion', 'disco', 'bank', 'match', 'deux', 'twenty', 'arise', 'replace', 'heute', 'score', 'bon', 'continue', 'stretch', 'inspiration', 'din', 'forest', 'questa', 'coast', 'mort', 'questo', 'belief', 'tuo', 'sunlight', 'plant', 'severed', 'whip', 'ray', 'oder', 'descend', 'simply', 'mirada', 'mankind', 'violent', 'lane', 'void', 'hop', 'weil', 'mondo', 'sunset', 'thru', 'silly', 'corpse', 'lass', 'behold', 'normal', 'agree', 'abandoned', 'weapon', 'wedding', 'bella', 'revenge', 'tiny', 'justice', 'weekend', 'menos', 'mic', 'bloom', 'sam', 'affair', 'leader', 'aber', 'aah', 'nerve', 'hush', 'historia', 'op', 'caress', 'either', 'discover', 'helpless', 'ghetto', 'bread', 'tant', 'hmm', 'momma', 'gibt', 'vive', 'pace', 'gusta', 'relax', 'jam', 'paz', 'brick', 'digo', 'dei', 'complain', 'burden', 'sunrise', 'also', 'linger', 'jungle', 'hopeless', 'able', 'agua', 'bop', 'fi', 'pillow', 'damage', 'mister', 'mask', 'drove', 'pump', 'ska', 'boss', 'list', 'whiskey', 'moral', 'affection', 'conquer', 'rosa', 'tumble', 'album', 'mend', 'warrior', 'sinner', 'herz', 'tip', 'express', 'loser', 'chant', 'crave', 'crystal', 'thrown', 'bay', 'bee', 'fruit', 'billy', 'hollywood', 'parade', 'allt', 'bailar', 'weed', 'ciudad', 'switch', 'wat', 'soir', 'stab', 'ashamed', 'vent', 'collect', 'macht', 'truck', 'instant', 'terra', 'temptation', 'skull', 'ora', 'ed', 'fare', 'rebel', 'meat', 'autumn', 'bom', 'viver', 'london', 'jos', 'deliver', 'perdido', 'cuore', 'doll', 'downtown', 'pink', 'v', 'owe', 'sigue', 'howling', 'ganas', 'heartbeat', 'core', 'butterfly', 'chick', 'della', 'bastard', 'wer', 'noite', 'impossible', 'sangre', 'easier', 'clue', 'li', 'shiver', 'pool', 'presence', 'dread', 'surface', 'niente', 'occhi', 'conscience', 'zero', 'pelo', 'blaze', 'squeeze', 'blast', 'haben', 'dope', 'bruised', 'tea', 'honor', 'ze', 'lamb', 'q', 'recognize', 'flor', 'whistle', 'roof', 'gang', 'beware', 'tomb', 'lei', 'euch', 'wow', 'clap', 'square', 'forma', 'rider', 'apple', 'modern', 'magazine', 'cha', 'coz', 'inner', 'impress', 'drawn', 'smart', 'harmony', 'government', 'quest', 'gran', 'volar', 'bliss', 'yuh', 'politics', 'dim', 'tour', 'pants', 'cheer', 'familiar', 'fought', 'roar', 'pen', 'obsession', 'century', 'failure', 'jail', 'confidence', 'meg', 'kneel', 'spare', 'pin', 'vaya', 'important', 'mourning', 'giorno', 'yearning', 'cuenta', 'guilt', 'solution', 'terre', 'focus', 'cling', 'concrete', 'horror', 'sore', 'dom', 'unfold', 'bounce', 'nun', 'goal', 'selfish', 'knowledge', 'awaken', 'bath', 'kommt', 'delight', 'hesitate', 'fond', 'parole', 'courage', 'serious', 'whether', 'ter', 'sweetest', 'useless', 'invisible', 'film', 'ole', 'male', 'alcohol', 'sake', 'sway', 'relate', 'notte', 'tra', 'stairs', 'parents', 'advice', 'grind', 'negro', 'vento', 'riot', 'sombra', 'blown', 'bajo', 'saa', 'burst', 'quel', 'size', 'sheep', 'fold', 'captured', 'diese', 'texas', 'lee', 'dwell', 'frightened', 'fragile', 'einen', 'ave', 'hacia', 'blew', 'chicken', 'thorns', 'teenage', 'everlasting', 'zone', 'tape', 'feather', 'compare', 'agora', 'loin', 'pig', 'carved', 'plague', 'tiger', 'flat', 'dee', 'punch', 'bueno', 'slaughter', 'funk', 'deseo', 'ami', 'nervous', 'tragedy', 'thick', 'mijn', 'fence', 'anytime', 'backwards', 'brighter', 'voir', 'envy', 'complicated', 'captain', 'purpose', 'ordinary', 'grin', 'mer', 'infected', 'spine', 'ought', 'defend', 'photograph', 'tha', 'prey', 'patiently', 'nombre', 'flip', 'mc', 'mist', 'toss', 'castle', 'ici', 'horn', 'security', 'jane', 'k', 'sympathy', 'creo', 'baila', 'trash', 'shirt', 'twilight', 'pair', 'dreamer', 'compromise', 'board', 'veil', 'error', 'ke', 'realise', 'devotion', 'solid', 'babylon', 'fancy', 'ding', 'kom', 'faz', 'cerca', 'eg', 'justify', 'pearls', 'domination', 'soleil', 'original', 'reject', 'awhile', 'sag', 'milk', 'tener', 'sweetheart', 'content', 'samba', 'extra', 'ka', 'rotten', 'sucker', 'salt', 'bat', 'worn', 'toll', 'pieds', 'yard', 'leather', 'astray', 'shift', 'third', 'grief', 'azul', 'upside', 'buck', 'jingle', 'witch', 'borrow', 'zijn', 'ont', 'kitchen', 'bedroom', 'cream', 'birthday', 'limbs', 'court', 'tom', 'neon', 'teacher', 'meer', 'overcome', 'depression', 'ingen', 'july', 'scattered', 'pussy', 'pile', 'jealous', 'bum', 'rocket', 'jimmy', 'habit', 'dor', 'sensation', 'corruption', 'righteous', 'neighbors', 'rob', 'moan', 'virgin', 'porte', 'libertad', 'depths', 'revelation', 'pasar', 'screw', 'stress', 'wolf', 'sto', 'augen', 'rum', 'sir', 'voor', 'beau', 'beam', 'add', 'farewell', 'shower', 'concerned', 'pasado', 'measure', 'oui', 'licht', 'rainy', 'remove', 'cease', 'tail', 'ive', 'apologize', 'peur', 'border', 'viva', 'charge', 'mij', 'frustration', 'perfume', 'bent', 'bubble', 'unto', 'dag', 'terrible', 'ciel', 'eve', 'disgrace', 'soil', 'pro', 'puerta', 'wrath', 'mun', 'feast', 'nas', 'reaction', 'scheme', 'aware', 'smooth', 'shallow', 'pode', 'trigger', 'patience', 'fatal', 'brazos', 'warmth', 'ceiling', 'agony', 'sweep', 'starving', 'prince', 'collapse', 'fuel', 'david', 'skip', 'greet', 'haze', 'wore', 'crow', 'coup', 'guerra', 'vale', 'fe', 'private', 'nyt', 'james', 'bullshit', 'teardrops', 'commit', 'blink', 'disaster', 'ang', 'olvido', 'sirens', 'glorious', 'frown', 'glance', 'absolutely', 'convince', 'palm', 'guaranteed', 'mention', 'rent', 'mike', 'vaan', 'sentimental', 'tutti', 'heartbreak', 'pobre', 'haut', 'unsere', 'corps', 'vow', 'ele', 'stray', 'oi', 'punishment', 'libre', 'fondo', 'morgen', 'television', 'cama', 'suffocate', 'mann', 'click', 'torment', 'repent', 'fry', 'condition', 'alt', 'tease', 'linda', 'prize', 'michael', 'yell', 'jou', 'jo', 'ego', 'anders', 'cook', 'cave', 'darkened', 'mut', 'attitude', 'collide', 'mitt', 'sleeve', 'sting', 'plenty', 'gay', 'devour', 'peut', 'eagle', 'equal', 'empire', 'balance', 'alas', 'culture', 'soaked', 'jeder', 'quarter', 'tone', 'summertime', 'unseen', 'thang', 'sharp', 'proof', 'earn', 'preacher', 'base', 'belly', 'mach', 'lullaby', 'louder', 'dulce', 'panic', 'flores', 'social', 'werden', 'range', 'cock', 'shown', 'sung', 'understood', 'progress', 'stranded', 'seh', 'role', 'bride', 'crooked', 'fiesta', 'thug', 'bind', 'quoi', 'notre', 'shove', 'suerte', 'gangsta', 'frente', 'cherry', 'mille', 'oil', 'dude', 'deeds', 'cabeza', 'tres', 'ama', 'drank', 'strain', 'espero', 'muerte', 'dragon', 'homme', 'wrist', 'team', 'thirst', 'basta', 'playa', 'pronto', 'avoid', 'inch', 'ecstasy', 'information', 'mud', 'deus', 'madre', 'purple', 'nog', 'razor', 'rust', 'femme', 'famous', 'puis', 'define', 'bold', 'bible', 'pit', 'burnt', 'choir', 'trial', 'essa', 'entertain', 'penny', 'comment', 'rio', 'bras', 'demise', 'serpent', 'emergency', 'rue', 'stolen', 'alarm', 'autre', 'hug', 'arrow', 'buena', 'temple', 'rejoice', 'bene', 'code', 'dancer', 'odds', 'gloria', 'map', 'adios', 'president', 'aha', 'afford', 'southern', 'mala', 'rag', 'organ', 'experience', 'spite', 'boiling', 'movement', 'highest', 'avant', 'immortal', 'pense', 'plate', 'cake', 'az', 'bobby', 'slam', 'jet', 'vom', 'chanson', 'halt', 'soar', 'canciones', 'bob', 'swell', 'bo', 'pot', 'funeral', 'christian', 'gens', 'yeh', 'risk', 'ritmo', 'felicidad', 'science', 'plead', 'vu', 'maker', 'amen', 'giant', 'level', 'raw', 'nella', 'esse', 'flew', 'language', 'deepest', 'pido', 'encuentro', 'motor', 'visit', 'z', 'sweeter', 'pose', 'cradle', 'obey', 'goddamn', 'threat', 'partir', 'hoje', 'driver', 'attraction', 'buddy', 'public', 'avenue', 'taas', 'co', 'tempted', 'chemical', 'jones', 'mie', 'nena', 'daily', 'sta', 'stack', 'nasty', 'satisfaction', 'center', 'tame', 'pierce', 'obvious', 'worthy', 'pourquoi', 'consider', 'gar', 'anda', 'sparkle', 'fulfill', 'prophet', 'vanish', 'pan', 'slap', 'hypnotized', 'spoon', 'thread', 'china', 'chew', 'canta', 'whatcha', 'bump', 'humble', 'claws', 'preach', 'cadillac', 'mate', 'bond', 'grain', 'dieser', 'voce', 'sanity', 'blank', 'degree', 'withered', 'snap', 'fog', 'doy', 'despise', 'endure', 'luce', 'busca', 'sip', 'dedicated', 'pine', 'alley', 'rearrange', 'saviour', 'donne', 'traffic', 'sincere', 'vad', 'liberty', 'volta', 'gypsy', 'pare', 'ko', 'struck', 'chips', 'ut', 'pulse', 'scent', 'lame', 'stir', 'chop', 'fuerte', 'condemned', 'cleanse', 'neither', 'buzz', 'tai', 'indian', 'muss', 'enfants', 'negra', 'rub', 'prima', 'cancer', 'solitude', 'driven', 'kommer', 'kleine', 'sooner', 'success', 'media', 'viejo', 'blackened', 'foreign', 'vuelta', 'greater', 'source', 'boyfriend', 'medicine', 'rare', 'lace', 'december', 'colder', 'camera', 'quelques', 'baile', 'vivre', 'tool', 'operator', 'criminal', 'interest', 'paul', 'vet', 'runaway', 'slept', 'footsteps', 'sixteen', 'fuerza', 'priest', 'nana', 'egg', 'aussi', 'realidad', 'alien', 'vengeance', 'stake', 'sonne', 'noir', 'soothe', 'rein', 'bara', 'peel', 'stormy', 'player', 'dinner', 'hardest', 'responsible', 'juego', 'worm', 'tak', 'aye', 'ar', 'perhaps', 'orleans', 'blonde', 'critical', 'stomach', 'toast', 'oye', 'bug', 'crucified', 'sailor', 'steam', 'clever', 'claus', 'uncle', 'gravity', 'chica', 'reap', 'farm', 'opinion', 'grasp', 'mamma', 'tore', 'dale', 'hurricane', 'thief', 'za', 'vibe', 'shiny', 'muerto', 'sidewalk', 'passa', 'conscious', 'glove', 'perform', 'lluvia', 'winner', 'consequence', 'cantando', 'disappointed', 'ann', 'oss', 'amante', 'ki', 'zo', 'satellite', 'tattoo', 'deg', 'usually', 'hecho', 'cocaine', 'tot', 'tuesday', 'tension', 'route', 'education', 'zombie', 'mieux', 'fury', 'alter', 'lend', 'value', 'coal', 'mommy', 'velvet', 'blanket', 'drama', 'bowl', 'orange', 'amarte', 'uhh', 'reborn', 'angst', 'lotta', 'especially', 'conceal', 'rid', 'ideal', 'dal', 'sos', 'willie', 'sentence', 'delle', 'tar', 'button', 'nao', 'strapped', 'meinem', 'display', 'aan', 'fra', 'ihn', 'tap', 'sagen', 'hon', 'signal', 'sul', 'shook', 'dot', 'jewels', 'himmel', 'vine', 'redeemed', 'musica', 'cow', 'einer', 'terminal', 'meus', 'patterns', 'ur', 'throughout', 'younger', 'coin', 'verso', 'deaf', 'exposed', 'compassion', 'personne', 'donna', 'num', 'describe', 'lower', 'brush', 'alegria', 'mm', 'outro', 'fazer', 'tangled', 'instinct', 'effect', 'approach', 'breast', 'volte', 'naar', 'wil', 'france', 'ow', 'reply', 'provide', 'fim', 'declare', 'nuclear', 'swore', 'ez', 'llama', 'vino', 'solve', 'distorted', 'rubber', 'factory', 'post', 'artist', 'annie', 'peter', 'biggest', 'brutal', 'extreme', 'english', 'jij', 'jerk', 'calma', 'debt', 'shield', 'esperanza', 'haar', 'dois', 'redemption', 'model', 'sido', 'weigh', 'resurrection', 'alto', 'curl', 'cent', 'june', 'slice', 'sha', 'olen', 'insecure', 'coward', 'ra', 'usa', 'finns', 'georgia', 'cute', 'cruise', 'mexico', 'invade', 'jealousy', 'futuro', 'halo', 'tras', 'beaten', 'shelf', 'motivation', 'twelve', 'rumors', 'tennessee', 'swept', 'anna', 'nuh', 'contain', 'nein', 'ate', 'sleigh', 'champagne', 'aun', 'defense', 'deceit', 'weird', 'relief', 'product', 'dip', 'zwei', 'singer', 'spy', 'target', 'souvenirs', 'stereo', 'bij', 'rude', 'manera', 'ab', 'rely', 'woh', 'harvest', 'corpo', 'liquid', 'fucker', 'exit', 'woe', 'web', 'casi', 'facile', 'princess', 'einmal', 'muscle', 'booty', 'blur', 'ii', 'duck', 'evidence', 'idiot', 'breakdown', 'liberate', 'sow', 'george', 'danse', 'einem', 'symphony', 'automatic', 'robot', 'realm', 'practice', 'distraction', 'judgement', 'sane', 'april', 'caer', 'gear', 'vicious', 'womb', 'visto', 'h', 'major', 'willow', 'neighborhood', 'static', 'wealth', 'reel', 'yer', 'isolation', 'joint', 'venus', 'wolves', 'ventana', 'lala', 'dinero', 'africa', 'homie', 'sock', 'arena', 'support', 'credit', 'reggae', 'represent', 'miro', 'matin', 'sleepy', 'worthless', 'video', 'grieve', 'meiner', 'branches', 'achieve', 'denk', 'demain', 'maze', 'correct', 'dial', 'file', 'misma', 'malo', 'filthy', 'jim', 'juice', 'conviction', 'cycle', 'ceux', 'perdu', 'disturb', 'peine', 'chocolate', 'rappers', 'forgiven', 'sinn', 'tend', 'corporate', 'tunnel', 'loca', 'dai', 'legend', 'dimension', 'idol', 'forsaken', 'fellas', 'physical', 'matar', 'tragic', 'gris', 'soll', 'forty', 'communication', 'dough', 'england', 'denial', 'liv', 'local', 'urge', 'hijos', 'taxi', 'ambition', 'voyage', 'mere', 'dull', 'unleash', 'tread', 'williams', 'gleam', 'civil', 'defy', 'haga', 'amongst', 'ob', 'heed', 'bull', 'host', 'dieu', 'village', 'unkind', 'altar', 'arriba', 'sal', 'lisa', 'bunch', 'crois', 'pardon', 'aller', 'despite', 'ignite', 'cotton', 'nei', 'verde', 'phase', 'porta', 'gracias', 'tue', 'link', 'international', 'seventeen', 'shes', 'coffin', 'hound', 'deception', 'health', 'frei', 'alibi', 'bled', 'ruby', 'leaf', 'attempt', 'thumb', 'razon', 'rode', 'sober', 'buen', 'pela', 'cum', 'joka', 'crimson', 'heights', 'frost', 'acid', 'net', 'pimp', 'font', 'selbst', 'shepherds', 'hunter', 'jive', 'prevail', 'jaw', 'circus', 'sia', 'background', 'fairy', 'symbol', 'sabor', 'geh', 'sulla', 'peak', 'plot', 'guarda', 'blanco', 'manage', 'safety', 'sleepless', 'chez', 'liquor', 'narrow', 'explosion', 'object', 'meal', 'unholy', 'untrue', 'wah', 'fountain', 'spider', 'mata', 'indeed', 'poet', 'flicker', 'vote', 'tank', 'sally', 'scale', 'halfway', 'traum', 'foe', 'honesty', 'torch', 'infinite', 'haus', 'holler', 'gott', 'attend', 'skills', 'atomic', 'bas', 'scorn', 'cap', 'hem', 'vibration', 'faint', 'office', 'paved', 'stroll', 'bello', 'ahi', 'voodoo', 'knot', 'thirty', 'thighs', 'process', 'duro', 'valentine', 'fright', 'spiritual', 'stock', 'fiction', 'memphis', 'padre', 'olla', 'overwhelmed', 'mami', 'glimpse', 'friendship', 'vampire', 'paralyzed', 'lifeless', 'coke', 'hardcore', 'pistol', 'bush', 'cherish', 'spiral', 'infinity', 'weave', 'sack', 'bam', 'dalla', 'inna', 'chin', 'parasite', 'contact', 'dado', 'fleurs', 'raus', 'weh', 'wage', 'dissolve', 'cu', 'superstar', 'ali', 'nueva', 'hart', 'diss', 'whoo', 'almighty', 'unwind', 'plea', 'sexual', 'dew', 'negative', 'bu', 'spoil', 'junkie', 'puppet', 'gin', 'blossom', 'fuss', 'plein', 'vast', 'stelle', 'histoire', 'stroke', 'seams', 'rey', 'prefer', 'northern', 'authority', 'disgust', 'devant', 'wretched', 'atmosphere', 'daydream', 'pipe', 'remorse', 'martyr', 'yonder', 'sneak', 'abyss', 'version', 'papel', 'pon', 'gutter', 'rate', 'pavement', 'od', 'dusty', 'roller', 'label', 'deck', 'vultures', 'tun', 'careless', 'glide', 'pawn', 'fifteen', 'bord', 'nuts', 'spanish', 'imposible', 'fifty', 'stink', 'leap', 'jahre', 'penetrate', 'dam', 'ritual', 'fellow', 'clip', 'supply', 'flee', 'elevator', 'mail', 'ribbons', 'corre', 'hospital', 'aina', 'ladder', 'wail', 'bathroom', 'sait', 'jenny', 'heures', 'revolver', 'barrio', 'knives', 'vice', 'firm', 'chicago', 'ikke', 'breakfast', 'darker', 'upset', 'oblivion', 'hustle', 'favourite', 'reward', 'servant', 'rewind', 'primavera', 'culpa', 'enslaved', 'ditt', 'charlie', 'pueblo', 'fuse', 'toca', 'tin', 'opposite', 'prophecy', 'zur', 'oughta', 'carpet', 'service', 'dort', 'computer', 'monte', 'butt', 'invented', 'strive', 'chords', 'foul', 'scrape', 'captive', 'ey', 'bid', 'jar', 'drew', 'definitely', 'slightly', 'pole', 'fascination', 'shorty', 'bark', 'produced', 'mystic', 'peep', 'grateful', 'trance', 'resto', 'nome', 'oppression', 'battered', 'bike', 'harry', 'medication', 'accident', 'waltz', 'asshole', 'stall', 'problema', 'finest', 'rome', 'savage', 'bonita', 'politicians', 'seize', 'general', 'parle', 'independent', 'seit', 'dine', 'pollution', 'french', 'phrase', 'circumstance', 'rattle', 'musique', 'romantic', 'ultimate', 'union', 'habe', 'stench', 'couch', 'accused', 'determined', 'risa', 'prime', 'nom', 'haters', 'bonheur', 'meadow', 'saudade', 'beep', 'shotgun', 'gira', 'lamp', 'elvis', 'trumpet', 'porch', 'graveyard', 'gentlemen', 'serenity', 'grito', 'vil', 'glitter', 'large', 'kopf', 'secreto', 'group', 'profit', 'decline', 'lou', 'sour', 'involved', 'boo', 'projects', 'material', 'noel', 'placer', 'execution', 'reverse', 'lucy', 'gamble', 'summon', 'mua', 'fest', 'madrugada', 'fo', 'microphone', 'claro', 'virus', 'explore', 'speech', 'venom', 'fino', 'sehr', 'vacation', 'partner', 'sotto', 'doorway', 'silhouette', 'notion', 'market', 'slay', 'rail', 'mold', 'yah', 'raven', 'knight', 'cuento', 'heb', 'cose', 'bli', 'eterno', 'dignity', 'depuis', 'adventure', 'departed', 'mulher', 'lawn', 'essence', 'fr', 'pause', 'tut', 'obscure', 'smack', 'slut', 'childhood', 'memoria', 'lipstick', 'photo', 'enchanted', 'hei', 'ira', 'farther', 'sport', 'gasoline', 'latest', 'rosie', 'fiend', 'concentrate', 'mina', 'palace', 'aboard', 'strife', 'anchor', 'dreamt', 'corn', 'clay', 'dah', 'dizzy', 'spray', 'messiah', 'voix', 'brakes', 'cafe', 'sum', 'pet', 'jaded', 'combination', 'tod', 'hur', 'apathy', 'desolate', 'crippled', 'axe', 'rabbit', 'sanctuary', 'valor', 'transform', 'uniform', 'confront', 'swift', 'barrel', 'filth', 'vrai', 'lune', 'masquerade', 'mississippi', 'chime', 'railroad', 'qua', 'actually', 'shoulda', 'gloom', 'blut', 'inn', 'phantom', 'appeal', 'plug', 'vanity', 'pony', 'cristal', 'fearless', 'stitch', 'fragments', 'clutch', 'squad', 'cambio', 'makeup', 'stalking', 'surf', 'outer', 'basement', 'obscene', 'fiddle', 'steve', 'boulevard', 'charts', 'arranged', 'increase', 'september', 'rua', 'weer', 'guitarra', 'leve', 'evolution', 'wooden', 'unter', 'logic', 'toma', 'gotten', 'mire', 'hid', 'wasteland', 'fighter', 'husband', 'suo', 'machen', 'pathetic', 'program', 'majesty', 'retreat', 'appreciate', 'daze', 'challenge', 'letzte', 'sogno', 'ku', 'subject', 'standard', 'troppo', 'jazz', 'opportunity', 'miserable', 'col', 'legions', 'submit', 'cough', 'medio', 'teen', 'wilderness', 'sed', 'peau', 'pone', 'study', 'jacket', 'overflow', 'supreme', 'butcher', 'balloon', 'tradition', 'pane', 'stomp', 'alegre', 'judgment', 'industry', 'introduce', 'lai', 'esquina', 'iba', 'tainted', 'county', 'fleeting', 'allah', 'groovy', 'chrome', 'blah', 'genocide', 'unreal', 'slumber', 'thieves', 'frank', 'id', 'lurking', 'unhappy', 'ihm', 'morena', 'chico', 'dusk', 'cuatro', 'lap', 'sve', 'dynamite', 'blick', 'twin', 'dub', 'yi', 'thirsty', 'skirt', 'predict', 'heroin', 'wonderland', 'scary', 'steer', 'ana', 'routine', 'contre', 'tooth', 'sopra', 'fuori', 'eden', 'remedy', 'cloudy', 'adam', 'raison', 'perro', 'amused', 'closet', 'ner', 'ano', 'western', 'ness', 'piedra', 'amiga', 'beef', 'features', 'robin', 'decade', 'bald', 'neue', 'whine', 'cheese', 'feu', 'dish', 'leva', 'misunderstood', 'misty', 'habla', 'psycho', 'spotlight', 'revive', 'suitcase', 'freunde', 'damnation', 'duda', 'geld', 'stadt', 'cunt', 'mellow', 'poetry', 'beans', 'print', 'confined', 'domani', 'permanent', 'strada', 'inhale', 'idle', 'juro', 'allen', 'upp', 'statue', 'bluebird', 'unity', 'reckless', 'robe', 'leer', 'lhe', 'vite', 'modo', 'menschen', 'incredible', 'anticipating', 'pensamiento', 'kimi', 'raindrops', 'puzzle', 'chemin', 'lindo', 'wax', 'fosse', 'junk', 'contemplate', 'skeleton', 'caso', 'wollen', 'grade', 'effort', 'hippie', 'fils', 'curve', 'nossa', 'eventually', 'disconnected', 'carol', 'strung', 'infierno', 'cousin', 'radiation', 'pal', 'stiff', 'trend', 'lento', 'aqu', 'terrified', 'vide', 'beloved', 'channel', 'jolie', 'stern', 'cope', 'garbage', 'admire', 'blisters', 'sulle', 'odio', 'pitch', 'carne', 'dong', 'seus', 'debo', 'honky', 'shark', 'cari', 'afar', 'jest', 'superman', 'pu', 'usted', 'sublime', 'identity', 'ge', 'billion', 'punto', 'oon', 'romeo', 'geen', 'banana', 'richard', 'livet', 'junge', 'fiel', 'noose', 'trunk', 'ink', 'mash', 'succeed', 'tony', 'bi', 'powder', 'fou', 'hun', 'butter', 'fur', 'disagree', 'voll', 'assured', 'savoir', 'horizonte', 'carnaval', 'drunken', 'tuck', 'keeper', 'broad', 'maid', 'flock', 'gib', 'vieux', 'tango', 'bailando', 'berlin', 'handsome', 'blunt', 'qual', 'inject', 'timeless', 'gi', 'cor', 'bonnie', 'clone', 'mall', 'wink', 'blanca', 'meaningless', 'laat', 'crap', 'legal', 'hypocrite', 'hermano', 'pasion', 'aids', 'brooklyn', 'jak', 'delusion', 'terms', 'primera', 'conceive', 'seele', 'devastation', 'slick', 'vegas', 'pluie', 'tax', 'ty', 'virtue', 'unable', 'distress', 'bla', 'embers', 'wee', 'beckon', 'galaxy', 'diz', 'ley', 'passo', 'mouse', 'issue', 'absurd', 'imma', 'zoo', 'rocky', 'pide', 'jackson', 'neat', 'itch', 'insects', 'starlight', 'shreds', 'segundo', 'avait', 'bonito', 'foundation', 'mag', 'scarlet', 'lunch', 'leak', 'bah', 'giorni', 'consolation', 'flirt', 'absence', 'comprehend', 'hin', 'scum', 'stride', 'fingertips', 'lua', 'translation', 'reputation', 'starry', 'conclusion', 'belt', 'sig', 'tribe', 'illuminate', 'forged', 'minor', 'behave', 'oli', 'trois', 'passer', 'vela', 'anyhow', 'mock', 'bir', 'espejo', 'intense', 'saddle', 'glue', 'rendezvous', 'cd', 'kai', 'rave', 'retire', 'vara', 'molly', 'forbidden', 'combat', 'deeply', 'silk', 'paranoia', 'whirl', 'duty', 'adentro', 'ditch', 'shave', 'sickening', 'premier', 'relieve', 'restore', 'unaware', 'dash', 'gore', 'indifference', 'temperature', 'rumble', 'argue', 'freeway', 'manipulate', 'annihilation', 'mek', 'unspoken', 'passage', 'fora', 'cosmic', 'betty', 'request', 'bucket', 'proper', 'ace', 'puro', 'gown', 'chapter', 'digital', 'actor', 'creator', 'skate', 'flown', 'nurse', 'sim', 'waist', 'collar', 'current', 'naive', 'flaws', 'comb', 'headlights', 'diablo', 'suave', 'ascend', 'crees', 'pledge', 'mistaken', 'method', 'vague', 'dura', 'voit', 'maiden', 'sangue', 'ando', 'elements', 'cae', 'entire', 'oft', 'intoxicated', 'besser', 'rug', 'aura', 'guest', 'chamber', 'sere', 'jukebox', 'skinny', 'wissen', 'holla', 'eager', 'hij', 'droit', 'assassin', 'landscape', 'mutilation', 'senseless', 'golpe', 'lily', 'auto', 'structure', 'assume', 'veneno', 'spawn', 'proclaim', 'threatening', 'magia', 'swirling', 'curious', 'complex', 'uptown', 'advance', 'hah', 'dug', 'lucifer', 'cruz', 'jamaica', 'flavor', 'uit', 'anguish', 'foto', 'chat', 'caminho', 'observe', 'yang', 'nickel', 'booze', 'sew', 'naughty', 'champion', 'forsake', 'seventh', 'capital', 'writer', 'bake', 'insist', 'wel', 'santo', 'pe', 'gee', 'college', 'kad']\n"
     ]
    }
   ],
   "source": [
    "import nltk\n",
    "stopwords = nltk.corpus.stopwords\n",
    "remove_these = set(stopwords.words('english') + stopwords.words('spanish'))\n",
    "\n",
    "with open('mxm_reverse_mapping.txt','r') as f:        # Load mapping from contracted word to full word string in the mxm dataset\n",
    "        lines = f.readlines()\n",
    "        _map = {}\n",
    "        for l in lines:\n",
    "            _input, output = l.split(\"<SEP>\")\n",
    "            _map[_input] = output   \n",
    "\n",
    "with open('mxm_dataset_train.txt','r') as f:\n",
    "        lines = f.readlines()\n",
    "        words = lines[17].replace('%','').split(',')\n",
    "        words = [_map[word.replace('\\n','')].replace('\\n','') for word in words]\n",
    "        words = [word for word in words if word not in remove_these and \"en_\" + word in out_dico]\n",
    "        \n",
    "print(len(words))\n",
    "print(words)"
   ]
  },
  {
   "cell_type": "code",
   "execution_count": 18,
   "id": "640b372b",
   "metadata": {
    "scrolled": true
   },
   "outputs": [
    {
     "name": "stdout",
     "output_type": "stream",
     "text": [
      "0\n",
      "50\n",
      "100\n",
      "150\n",
      "200\n",
      "250\n",
      "300\n",
      "350\n",
      "400\n",
      "450\n",
      "500\n",
      "550\n",
      "600\n",
      "650\n",
      "700\n",
      "750\n",
      "800\n",
      "850\n",
      "900\n",
      "950\n",
      "1000\n",
      "1050\n",
      "1100\n",
      "1150\n",
      "1200\n",
      "1250\n",
      "1300\n",
      "1350\n",
      "1400\n",
      "1450\n",
      "1500\n",
      "1550\n",
      "1600\n",
      "1650\n",
      "1700\n",
      "1750\n",
      "1800\n",
      "1850\n",
      "1900\n",
      "1950\n",
      "2000\n",
      "2050\n",
      "2100\n",
      "2150\n",
      "2200\n",
      "2250\n",
      "2300\n",
      "2350\n",
      "2400\n",
      "2450\n",
      "2500\n",
      "2550\n",
      "2600\n",
      "2650\n",
      "2700\n",
      "2750\n",
      "2800\n",
      "2850\n",
      "2900\n",
      "2950\n",
      "3000\n",
      "3050\n",
      "3100\n",
      "3150\n",
      "3200\n",
      "3250\n",
      "3300\n",
      "3350\n",
      "3400\n",
      "3450\n",
      "3500\n",
      "3550\n",
      "3600\n",
      "3650\n",
      "3700\n",
      "3750\n",
      "3800\n",
      "3850\n",
      "3900\n",
      "3950\n",
      "4000\n",
      "4050\n",
      "4100\n"
     ]
    }
   ],
   "source": [
    "import random\n",
    "cos = torch.nn.CosineSimilarity(dim=0)\n",
    "embeddings = [out_emb[out_dico[\"en_\" + word]] for word in words]\n",
    "averages = []\n",
    "minimums = []\n",
    "for i,emb in enumerate(embeddings):\n",
    "    \n",
    "    _sum = 0\n",
    "    num_compares = 0\n",
    "    _min = -1\n",
    "    indices = random.sample(range(len(embeddings)), 2500)\n",
    "    \n",
    "    if i in indices:\n",
    "        indices.remove(i)\n",
    "        \n",
    "    for j,comp_emb in enumerate(list(np.array(embeddings)[indices])):\n",
    "        if i == j:\n",
    "            continue\n",
    "        dist = torch.linalg.norm(emb - comp_emb)# cos(emb, comp_emb)\n",
    "        _min = dist if _min == -1 or dist < _min else _min\n",
    "        _sum += dist\n",
    "        num_compares += 1\n",
    "        \n",
    "    averages.append(_sum / num_compares)\n",
    "    minimums.append(_min)\n",
    "    if i % 50 == 0:\n",
    "        print(i)"
   ]
  },
  {
   "cell_type": "code",
   "execution_count": 19,
   "id": "2b4ca67d",
   "metadata": {
    "scrolled": true
   },
   "outputs": [
    {
     "name": "stdout",
     "output_type": "stream",
     "text": [
      "tensor(0.8614, device='cuda:0')\n",
      "tensor(1.3745, device='cuda:0')\n",
      "tensor(0.6267, device='cuda:0')\n"
     ]
    }
   ],
   "source": [
    "ratios = []\n",
    "for i in range(len(averages)):\n",
    "    ratios.append(minimums[i] / averages[i])\n",
    "\n",
    "print(sum(minimums) / len(minimums))\n",
    "# print(sum(maximums) / len(maximums))\n",
    "print(sum(averages) / len(averages))\n",
    "print(sum(ratios) / len(ratios))"
   ]
  },
  {
   "cell_type": "code",
   "execution_count": 5,
   "id": "bd76ff80",
   "metadata": {
    "scrolled": true
   },
   "outputs": [
    {
     "name": "stdout",
     "output_type": "stream",
     "text": [
      "tensor(1., device='cuda:0')\n"
     ]
    }
   ],
   "source": [
    "print(torch.linalg.norm(embeddings[0]))"
   ]
  },
  {
   "cell_type": "code",
   "execution_count": 11,
   "id": "7eecd9b7",
   "metadata": {
    "scrolled": true
   },
   "outputs": [
    {
     "name": "stdout",
     "output_type": "stream",
     "text": [
      "tensor(2.0000)\n"
     ]
    }
   ],
   "source": [
    "import math\n",
    "print(torch.linalg.norm(torch.tensor([1., 1., 1.]) / math.sqrt(3) - torch.tensor([-1., -1., -1.]) / math.sqrt(3)))"
   ]
  },
  {
   "cell_type": "code",
   "execution_count": null,
   "id": "ac20e26c",
   "metadata": {},
   "outputs": [],
   "source": []
  }
 ],
 "metadata": {
  "kernelspec": {
   "display_name": "Python 3",
   "language": "python",
   "name": "python3"
  },
  "language_info": {
   "codemirror_mode": {
    "name": "ipython",
    "version": 3
   },
   "file_extension": ".py",
   "mimetype": "text/x-python",
   "name": "python",
   "nbconvert_exporter": "python",
   "pygments_lexer": "ipython3",
   "version": "3.6.8"
  }
 },
 "nbformat": 4,
 "nbformat_minor": 5
}
