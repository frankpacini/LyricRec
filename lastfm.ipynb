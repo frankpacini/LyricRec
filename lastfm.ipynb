{
 "cells": [
  {
   "cell_type": "code",
   "execution_count": 22,
   "id": "4809b95b",
   "metadata": {},
   "outputs": [],
   "source": [
    "import requests\n",
    "import json\n",
    "with open(\"lastfm.txt\", 'r') as f:\n",
    "    api_key = f.read()\n",
    "url = \"http://ws.audioscrobbler.com/2.0/?method=track.getsimilar&artist={}&track={}&api_key={}&format=json\".format(\"Radiohead\", \"True Love Waits\", api_key)\n",
    "r = requests.get(url)\n",
    "res = json.loads(r.text)"
   ]
  },
  {
   "cell_type": "code",
   "execution_count": 30,
   "id": "a113a2f4",
   "metadata": {},
   "outputs": [
    {
     "data": {
      "text/plain": [
       "{'name': 'How to Disappear Completely',\n",
       " 'playcount': 7736762,\n",
       " 'mbid': '740d324e-4356-4116-812d-17ea76a190ce',\n",
       " 'match': 0.710032,\n",
       " 'url': 'https://www.last.fm/music/Radiohead/_/How+to+Disappear+Completely',\n",
       " 'streamable': {'#text': '0', 'fulltrack': '0'},\n",
       " 'duration': 356,\n",
       " 'artist': {'name': 'Radiohead',\n",
       "  'mbid': 'a74b1b7f-71a5-4011-9441-d0b5e4122711',\n",
       "  'url': 'https://www.last.fm/music/Radiohead'},\n",
       " 'image': [{'#text': 'https://lastfm.freetls.fastly.net/i/u/34s/2a96cbd8b46e442fc41c2b86b821562f.png',\n",
       "   'size': 'small'},\n",
       "  {'#text': 'https://lastfm.freetls.fastly.net/i/u/64s/2a96cbd8b46e442fc41c2b86b821562f.png',\n",
       "   'size': 'medium'},\n",
       "  {'#text': 'https://lastfm.freetls.fastly.net/i/u/174s/2a96cbd8b46e442fc41c2b86b821562f.png',\n",
       "   'size': 'large'},\n",
       "  {'#text': 'https://lastfm.freetls.fastly.net/i/u/300x300/2a96cbd8b46e442fc41c2b86b821562f.png',\n",
       "   'size': 'extralarge'},\n",
       "  {'#text': 'https://lastfm.freetls.fastly.net/i/u/300x300/2a96cbd8b46e442fc41c2b86b821562f.png',\n",
       "   'size': 'mega'},\n",
       "  {'#text': 'https://lastfm.freetls.fastly.net/i/u/300x300/2a96cbd8b46e442fc41c2b86b821562f.png',\n",
       "   'size': ''}]}"
      ]
     },
     "execution_count": 30,
     "metadata": {},
     "output_type": "execute_result"
    }
   ],
   "source": [
    "res['similartracks']['track'][1]"
   ]
  },
  {
   "cell_type": "code",
   "execution_count": null,
   "id": "4b5e47b7",
   "metadata": {},
   "outputs": [],
   "source": []
  }
 ],
 "metadata": {
  "kernelspec": {
   "display_name": "Python 3",
   "language": "python",
   "name": "python3"
  },
  "language_info": {
   "codemirror_mode": {
    "name": "ipython",
    "version": 3
   },
   "file_extension": ".py",
   "mimetype": "text/x-python",
   "name": "python",
   "nbconvert_exporter": "python",
   "pygments_lexer": "ipython3",
   "version": "3.8.8"
  }
 },
 "nbformat": 4,
 "nbformat_minor": 5
}
